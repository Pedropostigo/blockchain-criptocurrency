{
 "cells": [
  {
   "cell_type": "markdown",
   "metadata": {},
   "source": [
    "# Blockchain and criptocurrency implementation in Python"
   ]
  },
  {
   "cell_type": "markdown",
   "metadata": {},
   "source": [
    "## Packages necesarios"
   ]
  },
  {
   "cell_type": "code",
   "execution_count": 74,
   "metadata": {},
   "outputs": [],
   "source": [
    "from datetime import datetime as dt # module to get timestamp\n",
    "from hashlib import sha256 as sha # object to compute the sha256 digest of an string"
   ]
  },
  {
   "cell_type": "markdown",
   "metadata": {},
   "source": [
    "***"
   ]
  },
  {
   "cell_type": "markdown",
   "metadata": {},
   "source": [
    "## Transacciones\n",
    "\n",
    "Se crea un objeto *Transaction* que registrará el **origen y destinatario de una transacción**, el **importe total** de la transacción y el momento en el que se produce la transacción"
   ]
  },
  {
   "cell_type": "code",
   "execution_count": 75,
   "metadata": {},
   "outputs": [],
   "source": [
    "class Transaction(object):\n",
    "    \"\"\"\n",
    "    Each transaction between two parties\n",
    "    \n",
    "    :param origin: who makes the transaction\n",
    "    :param destination: to whom the transaction is made\n",
    "    :param ammount: how many coins are transfered in the transaction\n",
    "    \"\"\"\n",
    "    def __init__(self, origin, destination, ammount, timestamp):\n",
    "        self.origin = origin\n",
    "        self.destination = destination\n",
    "        self.ammount = ammount\n",
    "        self.timestamp = timestamp\n",
    "        \n",
    "    def __str__(self):\n",
    "        ret = f\"- \" + f\"Transaction of {self.ammount} coins from {self.origin} to {self.destination}.\"\n",
    "        ret += f\" \" + f\"Transaciton timestamp: {self.timestamp}\"\n",
    "        return ret\n",
    "       "
   ]
  },
  {
   "cell_type": "markdown",
   "metadata": {},
   "source": [
    "La representación de una transacción es la siguiente:"
   ]
  },
  {
   "cell_type": "code",
   "execution_count": 76,
   "metadata": {},
   "outputs": [
    {
     "name": "stdout",
     "output_type": "stream",
     "text": [
      "- Transaction of 20 coins from Alice to Bob. Transaciton timestamp: 2018-11-09 13:46:58.944707\n"
     ]
    }
   ],
   "source": [
    "print(Transaction(\"Alice\", \"Bob\", 20, dt.now()))"
   ]
  },
  {
   "cell_type": "markdown",
   "metadata": {},
   "source": [
    "***"
   ]
  },
  {
   "cell_type": "markdown",
   "metadata": {},
   "source": [
    "## Bloques\n",
    "\n",
    "Un bloque tiene los siguientes atributos:\n",
    "-  **Transacciones**: Listado de todas las transacciones que forman parte del bloque. En este caso, será una lista de objetos *Transaction*"
   ]
  },
  {
   "cell_type": "code",
   "execution_count": 77,
   "metadata": {},
   "outputs": [],
   "source": [
    "class Block(object):\n",
    "    \"\"\"\n",
    "    Each block in the blockchain. A block is a list of transactions\n",
    "    \"\"\"\n",
    "    \n",
    "    def __init__(self):\n",
    "        self.id = 1\n",
    "        self.timestamp = None\n",
    "        self.transactions = []\n",
    "        self.hash_previous_block = ''\n",
    "        \n",
    "    def __add__(self, other):\n",
    "        \"\"\"\n",
    "        Add a transaction to the block\n",
    "        \"\"\"\n",
    "        if isinstance(other, Transaction):\n",
    "            self.transactions.append(other)\n",
    "        return self\n",
    "        \n",
    "    def __radd__(self, other):\n",
    "        return self.__add__(self, other)\n",
    "    \n",
    "    def __sub__(self, other):\n",
    "        \"\"\"\n",
    "        Delete a transaction from the block\n",
    "        \"\"\"\n",
    "        if isinstance(other, Transaction) and other in self.transactions:\n",
    "            self.transactions = [x for x in self.transactions if x is not other]\n",
    "        return self\n",
    "        \n",
    "    def __rsub__(self, other):\n",
    "        return self.__sub__(self, other)\n",
    "    \n",
    "    def __str__(self):\n",
    "        \"\"\"\n",
    "        Get a string representing the block. The string contains the block id, the hash of the previous block,\n",
    "        the data of the transactions and the timestamp when the block was added to the blockchain\n",
    "        \"\"\"\n",
    "        ret = f\"Block id: {self.id}.\"\n",
    "        ret += f\" \" + f\"Hash of the previous block: {self.hash_previous_block}\\n\"\n",
    "        ret += f\"Transactions:\\n\"\n",
    "        # loop through transactions and add them to the string\n",
    "        for trans in self.transactions:\n",
    "            ret += str(trans) + \"\\n\"\n",
    "            \n",
    "        ret += f\"Block timestamp: {self.timestamp}\\n\"\n",
    "        return ret\n",
    "        \n",
    "    @property\n",
    "    def size(self):\n",
    "        return len(self.transactions)\n",
    "    \n",
    "    @property\n",
    "    def hash(self):\n",
    "        return sha(str(self).encode()).hexdigest()"
   ]
  },
  {
   "cell_type": "code",
   "execution_count": 78,
   "metadata": {},
   "outputs": [
    {
     "name": "stdout",
     "output_type": "stream",
     "text": [
      "Block has 0 transactions\n",
      "Block has 1 transactions\n",
      "Hash of the block: 91cdcdbb55924ab34e7a0bd2b9a52dadb73e70d7814330922451d441a8525eeb\n"
     ]
    }
   ],
   "source": [
    "trans = Transaction(\"Alice\", \"Bob\", 2, dt.now())\n",
    "block = Block()\n",
    "print(f\"Block has {block.size} transactions\")\n",
    "block += trans\n",
    "print(f\"Block has {block.size} transactions\")\n",
    "print(f\"Hash of the block: {block.hash}\")"
   ]
  },
  {
   "cell_type": "markdown",
   "metadata": {},
   "source": [
    "***"
   ]
  },
  {
   "cell_type": "markdown",
   "metadata": {},
   "source": [
    "## Blockchain\n",
    "\n",
    "El objeto *Blockchain* representará la base de datos blockchain, que guardará los distintos bloques"
   ]
  },
  {
   "cell_type": "code",
   "execution_count": 79,
   "metadata": {},
   "outputs": [],
   "source": [
    "generative_block = Block()\n",
    "\n",
    "class Blockchain(object):\n",
    "    \"\"\"\n",
    "    Object that represents the blockchain. The blockchain will store all the block objects,\n",
    "    that store the different transactions\n",
    "    \"\"\"\n",
    "    def __init__(self):\n",
    "        self.blocks = [] #store the blocks in the blockchain\n",
    "        # add the generative block\n",
    "        self += generative_block\n",
    "        \n",
    "    def __add__(self, other):\n",
    "        \"\"\"\n",
    "        Add a block to the blockchain\n",
    "        \"\"\"\n",
    "        if isinstance(other, Block):\n",
    "            other.id = self.length\n",
    "            other.timestamp = dt.now()\n",
    "                      \n",
    "            if self.length > 0:\n",
    "                other.hash_previous_block = self.previous_block.hash\n",
    "                \n",
    "            self.blocks.append(other)\n",
    "            \n",
    "        return self\n",
    "    def __radd__(self, other):\n",
    "        return self.__add__(self, other)\n",
    "    \n",
    "    def __str__(self):\n",
    "        ret = f\"Blockchain with {self.length} blocks\\n\"\n",
    "        if self.length > 0:\n",
    "            ret += f\"The blockchain has the following blocks:\\n\"\n",
    "            ret += \"\\n\"\n",
    "            for block in self.blocks:\n",
    "                ret += str(block)\n",
    "                ret += f\"Hash of the block: {block.hash}\\n\"\n",
    "                ret += \"\\n\"\n",
    "        return ret\n",
    "    \n",
    "    @property\n",
    "    def length(self):\n",
    "        return len(self.blocks)\n",
    "    \n",
    "    @property\n",
    "    def previous_block(self):\n",
    "        return self.blocks[-1]"
   ]
  },
  {
   "cell_type": "code",
   "execution_count": 80,
   "metadata": {},
   "outputs": [
    {
     "name": "stdout",
     "output_type": "stream",
     "text": [
      "Blockchain with 2 blocks\n",
      "The blockchain has the following blocks:\n",
      "\n",
      "Block id: 0. Hash of the previous block: \n",
      "Transactions:\n",
      "Block timestamp: 2018-11-09 13:46:59.039447\n",
      "Hash of the block: d1774ed00ffacfa613922f444b4344f09d6373f7008b239f483d174ff1e63ab1\n",
      "\n",
      "Block id: 1. Hash of the previous block: d1774ed00ffacfa613922f444b4344f09d6373f7008b239f483d174ff1e63ab1\n",
      "Transactions:\n",
      "- Transaction of 2 coins from Alice to Bob. Transaciton timestamp: 2018-11-09 13:46:58.995939\n",
      "Block timestamp: 2018-11-09 13:46:59.039447\n",
      "Hash of the block: fe1c0be47a2795493ed3b54e1ed68dc5550b9f0840336b88a225a16c4cbb08a2\n",
      "\n",
      "\n"
     ]
    }
   ],
   "source": [
    "bc = Blockchain()\n",
    "bc += block\n",
    "print(bc)"
   ]
  },
  {
   "cell_type": "code",
   "execution_count": null,
   "metadata": {},
   "outputs": [],
   "source": []
  }
 ],
 "metadata": {
  "kernelspec": {
   "display_name": "Python 3",
   "language": "python",
   "name": "python3"
  },
  "language_info": {
   "codemirror_mode": {
    "name": "ipython",
    "version": 3
   },
   "file_extension": ".py",
   "mimetype": "text/x-python",
   "name": "python",
   "nbconvert_exporter": "python",
   "pygments_lexer": "ipython3",
   "version": "3.6.7"
  }
 },
 "nbformat": 4,
 "nbformat_minor": 2
}
